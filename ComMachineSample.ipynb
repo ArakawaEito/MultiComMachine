{
 "cells": [
  {
   "cell_type": "code",
   "execution_count": 1,
   "id": "651e49b1",
   "metadata": {},
   "outputs": [
    {
     "name": "stdout",
     "output_type": "stream",
     "text": [
      "score:0.9473684210526315\n"
     ]
    }
   ],
   "source": [
    "from MultiComMachine import MultiComMachine\n",
    "from sklearn import datasets, model_selection, metrics\n",
    "import pandas as pd\n",
    "import os\n",
    "\n",
    "iris = datasets.load_iris()\n",
    "iris_data = pd.DataFrame(data=iris.data, columns=iris.feature_names)\n",
    "iris_label = pd.Series(data=iris.target)\n",
    "data_train, data_test, label_train, label_test = model_selection.train_test_split(iris_data, iris_label)\n",
    "\n",
    "current_dir = os.getcwd()\n",
    "parameters_dir = os.path.join(current_dir, 'parameters')\n",
    "parameters_file = os.path.join(parameters_dir, 'parameters.csv') # parameters_file：パラメータファイル(csv)のパス\n",
    "\n",
    "mcmachine = MultiComMachine(parameters_file)\n",
    "# データの入力形式はNumpyのみ対応\n",
    "mcmachine.fit(data_train.values, label_train.values)\n",
    "pre = mcmachine.predict(data_test.values)\n",
    "\n",
    "ac_score = metrics.accuracy_score(label_test, pre)\n",
    "print(f\"score:{ac_score}\")"
   ]
  }
 ],
 "metadata": {
  "kernelspec": {
   "display_name": "Python 3 (ipykernel)",
   "language": "python",
   "name": "python3"
  },
  "language_info": {
   "codemirror_mode": {
    "name": "ipython",
    "version": 3
   },
   "file_extension": ".py",
   "mimetype": "text/x-python",
   "name": "python",
   "nbconvert_exporter": "python",
   "pygments_lexer": "ipython3",
   "version": "3.7.13"
  }
 },
 "nbformat": 4,
 "nbformat_minor": 5
}
